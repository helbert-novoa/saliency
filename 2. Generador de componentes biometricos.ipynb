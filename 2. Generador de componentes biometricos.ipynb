{
 "cells": [
  {
   "cell_type": "markdown",
   "metadata": {},
   "source": [
    "### Librerias"
   ]
  },
  {
   "cell_type": "code",
   "execution_count": 4,
   "metadata": {},
   "outputs": [],
   "source": [
    "#Librerias\n",
    "import pandas as pd\n",
    "import numpy as np\n",
    "import cv2\n",
    "import os"
   ]
  },
  {
   "cell_type": "markdown",
   "metadata": {},
   "source": [
    "### Generación de partículas de acuerdo al lugar de fijación"
   ]
  },
  {
   "cell_type": "code",
   "execution_count": 5,
   "metadata": {},
   "outputs": [
    {
     "name": "stdout",
     "output_type": "stream",
     "text": [
      "Wall time: 54.3 s\n"
     ]
    }
   ],
   "source": [
    "%%time\n",
    "\n",
    "#Lectura del dataset general\n",
    "df = pd.read_csv(\"D:/Documentos/dataset.csv\")\n",
    "\n",
    "#Variables de análisis\n",
    "CATEGORIA = 6              #categoría de análisis\n",
    "TAM_PART = 112             #Tamaño medio de la partícula o componente\n",
    "CARP_FINAL = \"web\"         #Destino de las partículas o componentes\n",
    "PREF_PART = \"W_\"           #Prefijo de la partícula o componente\n",
    "\n",
    "#Filtrado del dataset por categoría de análisis. Ajustarlas para cada estudio del cual se quieren extraer los componentes\n",
    "df_cat = df[df[\"category\"]==CATEGORIA].reset_index()\n",
    "\n",
    "#conversión de tipos\n",
    "df_cat[\"estimulo\"] = df_cat[\"filenumber\"].astype(\"int\")\n",
    "\n",
    "#Lista de estímulos\n",
    "imagenes = os.path.join(os.getcwd(), \"D:/Documentos/\" + str(CATEGORIA))\n",
    "imagenes = os.listdir(imagenes)\n",
    "estimulos = []\n",
    "for i in range(len(imagenes)):\n",
    "    estimulo = imagenes[i].replace(\".png\", \"\")\n",
    "    estimulo = int(estimulo)\n",
    "    estimulos.append(estimulo)\n",
    "\n",
    "#Generador de partículas\n",
    "contador =1\n",
    "for i in range(len(estimulos)):\n",
    "    img = cv2.imread(\"D:/Documentos/\"+ str(CATEGORIA) +\"/\"+ str(estimulos[i]) +\".png\")\n",
    "    for j in range(len(df_cat)):\n",
    "        if df_cat[\"estimulo\"][j]==estimulos[i]:\n",
    "            if df_cat[\"x\"][j] > TAM_PART:\n",
    "                if df_cat[\"x\"][j] < img.shape[0]-TAM_PART:\n",
    "                    if df_cat[\"y\"][j] > TAM_PART:\n",
    "                        if df_cat[\"y\"][j] < img.shape[1]-TAM_PART:\n",
    "                            x = int(df_cat[\"x\"][j]) -TAM_PART\n",
    "                            y = int(df_cat[\"y\"][j]) -TAM_PART\n",
    "                            crop_img = img[x:x+(TAM_PART*2), y:y+(TAM_PART*2)]\n",
    "                            cv2.imwrite(\"D:/Documentos/particulas_224/\"+CARP_FINAL+\"/\" + \n",
    "                            PREF_PART+str(contador)+\".png\", crop_img)\n",
    "                            contador+=1 "
   ]
  }
 ],
 "metadata": {
  "kernelspec": {
   "display_name": "Python 3",
   "language": "python",
   "name": "python3"
  },
  "language_info": {
   "codemirror_mode": {
    "name": "ipython",
    "version": 3
   },
   "file_extension": ".py",
   "mimetype": "text/x-python",
   "name": "python",
   "nbconvert_exporter": "python",
   "pygments_lexer": "ipython3",
   "version": "3.8.5"
  }
 },
 "nbformat": 4,
 "nbformat_minor": 4
}